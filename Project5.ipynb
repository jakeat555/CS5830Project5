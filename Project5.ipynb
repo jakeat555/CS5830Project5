{
 "cells": [
  {
   "cell_type": "markdown",
   "id": "bf5301bb-6044-4199-a2f8-6c8fb18cdf8a",
   "metadata": {},
   "source": [
    "# Niave Bayes Classification\n",
    "1. Clean data\n",
    "    1. Compute average of regular season for each team each season\n",
    "    1. Seperate post season data\n",
    "    1. Make sure final out come is present\n",
    "    1."
   ]
  }
 ],
 "metadata": {
  "kernelspec": {
   "display_name": "Python 3 (ipykernel)",
   "language": "python",
   "name": "python3"
  },
  "language_info": {
   "codemirror_mode": {
    "name": "ipython",
    "version": 3
   },
   "file_extension": ".py",
   "mimetype": "text/x-python",
   "name": "python",
   "nbconvert_exporter": "python",
   "pygments_lexer": "ipython3",
   "version": "3.9.13"
  }
 },
 "nbformat": 4,
 "nbformat_minor": 5
}
